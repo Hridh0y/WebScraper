{
 "cells": [
  {
   "cell_type": "code",
   "execution_count": 3,
   "id": "37faa60a",
   "metadata": {},
   "outputs": [],
   "source": [
    "from bs4 import BeautifulSoup\n",
    "from selenium import webdriver\n",
    "import requests\n",
    "import html5lib\n",
    "import time\n",
    "import json"
   ]
  },
  {
   "cell_type": "code",
   "execution_count": 4,
   "id": "afd271ce",
   "metadata": {},
   "outputs": [
    {
     "name": "stderr",
     "output_type": "stream",
     "text": [
      "C:\\Users\\Hridhoy Datta\\AppData\\Local\\Temp\\ipykernel_13464\\4013841738.py:8: DeprecationWarning: executable_path has been deprecated, please pass in a Service object\n",
      "  driver = webdriver.Chrome(\"chromedriver.exe\",chrome_options=driver1)\n",
      "C:\\Users\\Hridhoy Datta\\AppData\\Local\\Temp\\ipykernel_13464\\4013841738.py:8: DeprecationWarning: use options instead of chrome_options\n",
      "  driver = webdriver.Chrome(\"chromedriver.exe\",chrome_options=driver1)\n"
     ]
    }
   ],
   "source": [
    "url = \"https://steamcommunity.com/app/1085660/reviews/?browsefilter=toprated&snr=1_5_100010_\"\n",
    "\n",
    "driver1 = webdriver.ChromeOptions()\n",
    "driver1.add_argument('--ignore-certificate-errors')\n",
    "driver1.add_argument('--incognito')\n",
    "driver1.add_argument('--headless')\n",
    "\n",
    "driver = webdriver.Chrome(\"chromedriver.exe\",chrome_options=driver1)\n",
    "driver.get(url)"
   ]
  },
  {
   "cell_type": "code",
   "execution_count": 9,
   "id": "938a0e55",
   "metadata": {},
   "outputs": [
    {
     "name": "stdout",
     "output_type": "stream",
     "text": [
      "6180\n"
     ]
    }
   ],
   "source": [
    "SCROLL_PAUSE_TIME = 0.5\n",
    "\n",
    "Reviews = []\n",
    "# Get scroll height\n",
    "last_height = driver.execute_script(\"return document.body.scrollHeight\")\n",
    "\n",
    "for i in range(10000):\n",
    "    # Scroll down to bottom\n",
    "    driver.execute_script(\"window.scrollTo(0, document.body.scrollHeight);\")\n",
    "\n",
    "    # Wait to load page\n",
    "    time.sleep(SCROLL_PAUSE_TIME)\n",
    "\n",
    "    # Calculate new scroll height and compare with last scroll height\n",
    "    new_height = driver.execute_script(\"return document.body.scrollHeight\")\n",
    "    #if new_height == last_height:\n",
    "        #break\n",
    "    #last_height = new_height\n",
    "content = BeautifulSoup(driver.page_source, 'html.parser')\n",
    "for cont in content.findAll('div',attrs={\"class\":\"apphub_Card\"}): #apphub_CardContentMain\n",
    "    #for conter in cont.findAll('div',attrs={\"class\":\"apphub_CardTextContent\"}):\n",
    "        #print(conter.text.replace('\\'','').replace('\\t','').split('\\n',3)[1])\n",
    "    conter = cont.find('div',attrs={\"class\":\"apphub_CardTextContent\"})\n",
    "    if cont.find('div',attrs={\"class\":\"title\"}).text == 'Recommended':\n",
    "        Recommended = True\n",
    "    else:\n",
    "        Recommended = False\n",
    "        \n",
    "    GameReviewObject = {\n",
    "        \"Recommended\" : Recommended,\n",
    "        \"Date\" : conter.text.replace('\\'','').replace('\\t','').split('\\n',3)[1],\n",
    "        \"Review\" : conter.text.replace('\\'','').replace('\\t','').split('\\n',3)[2],\n",
    "        \"Author\" : cont.find('div',attrs={'class':'apphub_CardContentAuthorName'}).text,\n",
    "        \"Hours\" : float(cont.find('div',attrs={\"class\":\"hours\"}).text.replace(',','').split()[0])\n",
    "    }\n",
    "    Reviews.append(GameReviewObject)\n",
    "\n",
    "print(len(Reviews))\n",
    "    "
   ]
  },
  {
   "cell_type": "code",
   "execution_count": 10,
   "id": "35fa0538",
   "metadata": {},
   "outputs": [],
   "source": [
    "with open('Destiny2Reviews.json','w') as outfile:\n",
    "    json.dump(Reviews,outfile)"
   ]
  },
  {
   "cell_type": "code",
   "execution_count": 11,
   "id": "91fde31a",
   "metadata": {},
   "outputs": [],
   "source": [
    "with open('Destiny2Reviews.json') as data:\n",
    "    dfdata = json.load(data)"
   ]
  },
  {
   "cell_type": "code",
   "execution_count": 12,
   "id": "5bf5c519",
   "metadata": {},
   "outputs": [
    {
     "data": {
      "text/plain": [
       "{'Recommended': True,\n",
       " 'Date': 'Posted: 1 October, 2019',\n",
       " 'Review': 'With almost 300 hours of Destiny 2 (D2) back on Battle.net (the Blizzard launcher), let me give this perspective/advice for new players, specifically with regards for the F2P offering that is Destiny 2: New Light, with a few more holistic thoughts sprinkled throughout:This overall game is good. It doesnt always live up to its promise (the first mission of every campaign is always the most polished thing aside from the raids/dungeons), but when it does, it really shines.The gunplay is unrivaled. The visual/audio feedback is great, the handling feels really good, and enemies really pop when you take them out. Expect nothing less from the studio that brought us grunt birthday parties.The game is better in a fireteam. Now that the base game is F2P [though with the DCV, this is considerably less content than it used to be/I would like], this should be easier than ever for most activities. That said, a huge majority of my playtime was done solo. It can get tricky at times (\"Darkness Zones\" in certain missions prevent respawning but allow for revives, so solo players have a distinct disadvantage there). With that said, dungeons (currently The Shattered Throne, Pit of Heresy, Prophecy which is free to all players, and Grasp of Avarice) and raids (\"Last Wish\" from Forsaken, \"Garden of Salvation\" from Shadowkeep, \"The Deep Stone Crypt\" from Beyond Light, and Vault of Glass which is free to all players) are best experienced with a team, so dont shy away from LFG group-finder options like the Discord, official app, or any number of other sites (just make sure to accurately describe your experience, level, and gear. Tis only polite). Of the matchmade multiplayer offerings, I really enjoy Gambit (PvPvE, reminds me of the Black Ops Zombies 4z4 mode done right), jump into the occasional Strike (PvE, matchmade fireteams running campaign-like missions), and have no interest in Crucible (PvP, its fine I guess, but Ive never liked PvP thats dependent, in large part, on personal progression - especially in the competitive modes like Trials of Osiris and Iron Banner)Dont be afraid to ignore content - this is absolutely the kind of game where you can set your own goals. Want a specific exotic gun? Look up where it drops and focus on grinding that content. Want a specific roll on a random roll gun? Find the best possible farming method and go to town. Chase down some of the exotic questions that the game clutters up your quest page with, or just goof around doing things that you find fun while absolutely ignoring all signposts.Some stuff just wont be explained in game. Its not as bad as Warframe (much less need for a wiki) but some things are still obscured. Feel free to look up Xur (exotic weapon vendor who visits on weekends) and other hidden exotics tied to specific activities, lost sectors, patrol locations, or quest chains.For anything that you cant easily find online - reach out and find a sherpa. The community for this game tends to be pretty great, and enough of us have spent enough time leaning specific parts of it (e.g. raids) or just mechanics in general (\"What are random rolls? Which do I keep?\") that wed be happy to jump onto discord (there are a bunch for PC, just check out the subreddit sidebar linked below) and answer any and all questions you may have. Now is a great time to be getting into Destiny 2. The fact that a representative chunk of this game is now free makes this the perfect time to dip your toes in without emptying out your wallet. Any other questions about this game as a product (\"Should I pay for DLC? Is Eververse worth it?\") should absolutely be researched elsewhere. [Do your research before you buy older expansions, specifically regarding the removal of content and the DCV https://www.bungie.net/en/Guide/dcv]If youre looking for a place to start with the F2P content, finish the intro missions in the Cosmodrome. Remember, everyone is starting at ~1100 light level, but means that you can miss out on the \"learning the ropes\" parts of the game that come with working your way through the New Light quest chain. [As of Beyond Light, all of the campaigns pre-Forsaken are not currently accessible. Release order was Forsaken > Shadowkeep > Beyond Light, followed by the upcoming expansions Witch Queen > Lightfall > TBA. Forsaken campaign/the Tangled Shore will be inaccessible after the launch of Witch Queen, set for Feb 2022]Eyes up, guardian.Footnotes for people yelling at me in the comments:-All of this is my opinion. Feel free to hold your own and disagree with mine.-I generally enjoy grinding, looter shooters, FPSs, and weird sci-fi space magic. Halo, Borderlands, Warframe, and CoD Zombies are some of my most-played and favorite games.-As far as I can tell, anything that is not strictly subjective in the above is factually correct [as of Shadowkeeps launch, with updates noted throughout. This game changes quite a bit over time, so make sure to do your own research before spending money on it]. If Ive missed something, feel free to point it out in the comments and Ill do my best to update this periodically. [Updated again with the announced removal of sunsetting and lower seasonal power caps during Season 13, per https://www.bungie.net/en/Explore/Detail/News/50124]-----------------TL:DR: Its good. Not perfect, but really good. And since its free, you can get a really good sense of if this game is for you without paying for any of it. You can play almost any activity solo pretty easily except for a handful of endgame activities. If youre overwhelmed at first, just play through the Cosmodrome missions while you get your feet under you, or ask a veteran player for help.-----------------Sites to use (List was compiled at Shadowkeep launch, but most of it should still be relevant/useful) Beginners Guide (Current as of Beyond Light) - https://www.bungie.net/en/Help/Article/49007The DTG Subreddit - /r/DestinyTheGame on Reddit - https://www.reddit.com/r/DestinyTheGame/Destiny Item Manager (mange your inventory from your browser even while in-game, essential to avoid unneeded trips back to the tower) - app.destinyitemmanager.comDestiny 2 Checklist (Lists out everything to do as well as when it resets in-game) - www.d2checklist.com/Light gg (Database of in-game items, useful for looking up random rolls) - https://www.light.gg/Braytech org (Lots of overlapping features, but I really like their maps) - braytech.org/Datto (Destiny Youtuber / 24:02 Raider who posts lots of useful/educational content, including exotic guides) - https://www.youtube.com/channel/UCkmAjbIecTIjTQctolYeuDwIf youve played D2 on another system, check out the CrossSave page (https://www.bungie.net/7/en/crosssave) on the Bungie net official site respectively to get all of your content and progression moved over to Steam.Story Recap up through Shadowkeep (Spoilers Destiny 1 / D1, and D2, obviously) (My name is Byf on YouTube: The Complete Story of Destiny! From origins to Shadowkeep (Timeline and Lore explained)) ',\n",
       " 'Author': 'Phoenix',\n",
       " 'Hours': 689.1}"
      ]
     },
     "execution_count": 12,
     "metadata": {},
     "output_type": "execute_result"
    }
   ],
   "source": [
    "dfdata[0]"
   ]
  },
  {
   "cell_type": "code",
   "execution_count": null,
   "id": "f316a4b8",
   "metadata": {},
   "outputs": [],
   "source": []
  }
 ],
 "metadata": {
  "kernelspec": {
   "display_name": "WebScraper",
   "language": "python",
   "name": "webscraper"
  },
  "language_info": {
   "codemirror_mode": {
    "name": "ipython",
    "version": 3
   },
   "file_extension": ".py",
   "mimetype": "text/x-python",
   "name": "python",
   "nbconvert_exporter": "python",
   "pygments_lexer": "ipython3",
   "version": "3.9.7"
  }
 },
 "nbformat": 4,
 "nbformat_minor": 5
}
