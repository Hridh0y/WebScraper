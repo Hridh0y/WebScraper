{
 "cells": [
  {
   "cell_type": "code",
   "execution_count": null,
   "id": "37faa60a",
   "metadata": {},
   "outputs": [],
   "source": [
    "from bs4 import BeautifulSoup\n",
    "from selenium import webdriver\n",
    "import requests\n",
    "import html5lib\n",
    "import time\n",
    "import json"
   ]
  },
  {
   "cell_type": "code",
   "execution_count": null,
   "id": "afd271ce",
   "metadata": {},
   "outputs": [],
   "source": [
    "url = \"https://steamcommunity.com/app/1085660/reviews/?browsefilter=toprated&snr=1_5_100010_\"\n",
    "\n",
    "driver1 = webdriver.ChromeOptions()\n",
    "driver1.add_argument('--ignore-certificate-errors')\n",
    "driver1.add_argument('--incognito')\n",
    "driver1.add_argument('--headless')\n",
    "\n",
    "driver = webdriver.Chrome(\"chromedriver.exe\",chrome_options=driver1)\n",
    "driver.get(url)"
   ]
  },
  {
   "cell_type": "code",
   "execution_count": null,
   "id": "938a0e55",
   "metadata": {},
   "outputs": [],
   "source": [
    "SCROLL_PAUSE_TIME = 0.5\n",
    "\n",
    "Reviews = []\n",
    "# Get scroll height\n",
    "last_height = driver.execute_script(\"return document.body.scrollHeight\")\n",
    "\n",
    "for i in range(10000):\n",
    "    # Scroll down to bottom\n",
    "    driver.execute_script(\"window.scrollTo(0, document.body.scrollHeight);\")\n",
    "\n",
    "    # Wait to load page\n",
    "    time.sleep(SCROLL_PAUSE_TIME)\n",
    "\n",
    "    # Calculate new scroll height and compare with last scroll height\n",
    "    new_height = driver.execute_script(\"return document.body.scrollHeight\")\n",
    "    #if new_height == last_height:\n",
    "        #break\n",
    "    #last_height = new_height\n",
    "content = BeautifulSoup(driver.page_source, 'html.parser')\n",
    "for cont in content.findAll('div',attrs={\"class\":\"apphub_Card\"}): #apphub_CardContentMain\n",
    "    #for conter in cont.findAll('div',attrs={\"class\":\"apphub_CardTextContent\"}):\n",
    "        #print(conter.text.replace('\\'','').replace('\\t','').split('\\n',3)[1])\n",
    "    conter = cont.find('div',attrs={\"class\":\"apphub_CardTextContent\"})\n",
    "    if cont.find('div',attrs={\"class\":\"title\"}).text == 'Recommended':\n",
    "        Recommended = True\n",
    "    else:\n",
    "        Recommended = False\n",
    "        \n",
    "    GameReviewObject = {\n",
    "        \"Recommended\" : Recommended,\n",
    "        \"Date\" : conter.text.replace('\\'','').replace('\\t','').split('\\n',3)[1],\n",
    "        \"Review\" : conter.text.replace('\\'','').replace('\\t','').split('\\n',3)[2],\n",
    "        \"Author\" : cont.find('div',attrs={'class':'apphub_CardContentAuthorName'}).text,\n",
    "        \"Hours\" : float(cont.find('div',attrs={\"class\":\"hours\"}).text.replace(',','').split()[0])\n",
    "    }\n",
    "    Reviews.append(GameReviewObject)\n",
    "\n",
    "print(len(Reviews))\n",
    "    "
   ]
  },
  {
   "cell_type": "code",
   "execution_count": null,
   "id": "35fa0538",
   "metadata": {},
   "outputs": [],
   "source": [
    "with open('Destiny2Reviews.json','w') as outfile:\n",
    "    json.dump(Reviews,outfile)"
   ]
  },
  {
   "cell_type": "code",
   "execution_count": null,
   "id": "555f58ad",
   "metadata": {},
   "outputs": [],
   "source": [
    "with open('Destiny2Reviews.json') as data:\n",
    "    dfdata = json.load(data)"
   ]
  },
  {
   "cell_type": "code",
   "execution_count": null,
   "id": "b1602efa",
   "metadata": {},
   "outputs": [],
   "source": [
    "dfdata[0]"
   ]
  },
  {
   "cell_type": "code",
   "execution_count": null,
   "id": "8b4d089b",
   "metadata": {},
   "outputs": [],
   "source": []
  }
 ],
 "metadata": {
  "kernelspec": {
   "display_name": "WebScraper",
   "language": "python",
   "name": "webscraper"
  },
  "language_info": {
   "codemirror_mode": {
    "name": "ipython",
    "version": 3
   },
   "file_extension": ".py",
   "mimetype": "text/x-python",
   "name": "python",
   "nbconvert_exporter": "python",
   "pygments_lexer": "ipython3",
   "version": "3.9.7"
  }
 },
 "nbformat": 4,
 "nbformat_minor": 5
}
